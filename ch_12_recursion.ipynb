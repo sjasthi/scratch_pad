{
  "nbformat": 4,
  "nbformat_minor": 0,
  "metadata": {
    "colab": {
      "provenance": [],
      "toc_visible": true,
      "authorship_tag": "ABX9TyPTp3VX39LkZw/WBhMor+3z",
      "include_colab_link": true
    },
    "kernelspec": {
      "name": "python3",
      "display_name": "Python 3"
    },
    "language_info": {
      "name": "python"
    }
  },
  "cells": [
    {
      "cell_type": "markdown",
      "metadata": {
        "id": "view-in-github",
        "colab_type": "text"
      },
      "source": [
        "<a href=\"https://colab.research.google.com/github/sjasthi/scratch_pad/blob/main/ch_12_recursion.ipynb\" target=\"_parent\"><img src=\"https://colab.research.google.com/assets/colab-badge.svg\" alt=\"Open In Colab\"/></a>"
      ]
    },
    {
      "cell_type": "markdown",
      "source": [],
      "metadata": {
        "id": "a1Bxk7PBzcM-"
      }
    },
    {
      "cell_type": "markdown",
      "source": [
        "## Recursion"
      ],
      "metadata": {
        "id": "_yRL39TUzefU"
      }
    },
    {
      "cell_type": "markdown",
      "source": [
        "### infinite recursive function"
      ],
      "metadata": {
        "id": "YhGV_DN-0OcB"
      }
    },
    {
      "cell_type": "code",
      "source": [
        "def message():\n",
        "  print(\"this is a recursive function\")\n",
        "  message()\n",
        "\n",
        "# invoke the recursive function\n",
        "# this gets into infinite loop because we are not stopping it\n",
        "message()"
      ],
      "metadata": {
        "id": "SXSxY2nhzwkA"
      },
      "execution_count": null,
      "outputs": []
    },
    {
      "cell_type": "markdown",
      "source": [
        "## Recursive Function with a stopping case"
      ],
      "metadata": {
        "id": "VO2OhzfUzijb"
      }
    },
    {
      "cell_type": "code",
      "execution_count": 5,
      "metadata": {
        "colab": {
          "base_uri": "https://localhost:8080/"
        },
        "id": "FpFkTe1xzW3O",
        "outputId": "f896d4c2-e01e-43b6-f159-552dd4e14b17"
      },
      "outputs": [
        {
          "output_type": "stream",
          "name": "stdout",
          "text": [
            "This is a recursive function with a stopping case 5\n",
            "This is a recursive function with a stopping case 4\n",
            "This is a recursive function with a stopping case 3\n",
            "This is a recursive function with a stopping case 2\n",
            "This is a recursive function with a stopping case 1\n"
          ]
        }
      ],
      "source": [
        "def message(x):\n",
        "  # this is the stopping case\n",
        "  if x == 0:\n",
        "    return\n",
        "\n",
        "  # this is the main execution\n",
        "  if x > 0:\n",
        "    print(\"This is a recursive function with a stopping case\", x)\n",
        "    # converge towards the stopping case\n",
        "    message(x-1)\n",
        "\n",
        "# invoke the recursive function\n",
        "# this gets into infinite loop because we are not stopping it\n",
        "message(5)"
      ]
    },
    {
      "cell_type": "markdown",
      "source": [],
      "metadata": {
        "id": "NGQvgD_Gziq7"
      }
    },
    {
      "cell_type": "code",
      "source": [
        "def message(x):\n",
        "  # this is the stopping case\n",
        "  if x == 0:\n",
        "    return\n",
        "\n",
        "  # this is the main execution\n",
        "  if x > 0:\n",
        "    print(\"This is a recursive function with a stopping case\", x)\n",
        "    message(x-1)\n",
        "\n",
        "# invoke the recursive function\n",
        "# this gets into infinite loop because we are not stopping it\n",
        "message(5)"
      ],
      "metadata": {
        "colab": {
          "base_uri": "https://localhost:8080/"
        },
        "id": "ayizQBeHze4X",
        "outputId": "70b6357c-f6fe-4fd5-d550-c07ccbf9a601"
      },
      "execution_count": 9,
      "outputs": [
        {
          "output_type": "stream",
          "name": "stdout",
          "text": [
            "This is a recursive function with a stopping case 5\n",
            "This is a recursive function with a stopping case 4\n",
            "This is a recursive function with a stopping case 3\n",
            "This is a recursive function with a stopping case 2\n",
            "This is a recursive function with a stopping case 1\n"
          ]
        }
      ]
    },
    {
      "cell_type": "markdown",
      "source": [
        "### Example: Factorial"
      ],
      "metadata": {
        "id": "lAJQsYOJzfpB"
      }
    },
    {
      "cell_type": "code",
      "source": [
        "# If n = 0 then factorial(n) = 1\n",
        "# If n > 0 then factorial(n) = n × factorial(n − 1)\n",
        "\n",
        "def factorial(num):\n",
        "  if num == 0:\n",
        "      return 1\n",
        "  else:\n",
        "      return num * factorial(num-1)\n",
        "      \n",
        "# invoke the function\n",
        "\n",
        "\n",
        "x = factorial(3)\n",
        "print(\"factorial(3)\", x)\n",
        "\n",
        "x = factorial(5)\n",
        "print(\"factorial(5)\", x)\n",
        "\n",
        "x = factorial(10)\n",
        "print(\"factorial(10)\", x)"
      ],
      "metadata": {
        "colab": {
          "base_uri": "https://localhost:8080/"
        },
        "id": "hfiKPaodzgBV",
        "outputId": "a57c0ce5-55ca-4135-b02e-f24a0cbf2037"
      },
      "execution_count": 12,
      "outputs": [
        {
          "output_type": "stream",
          "name": "stdout",
          "text": [
            "factorial(3) 6\n",
            "factorial(5) 120\n",
            "factorial(10) 3628800\n"
          ]
        }
      ]
    },
    {
      "cell_type": "markdown",
      "source": [
        "### Example: Fibonacci"
      ],
      "metadata": {
        "id": "EAZxAqrc7fHu"
      }
    },
    {
      "cell_type": "code",
      "source": [
        "def Fibonacci(n):\n",
        "   \n",
        "    # Check if input is 0 then it will\n",
        "    # print incorrect input\n",
        "    if (n < 0):\n",
        "        print(\"Incorrect input\")\n",
        " \n",
        "    # Check if n is 0\n",
        "    # then it will return 0\n",
        "    elif (n == 0):\n",
        "        return 0\n",
        " \n",
        "    # Check if n is 1,2\n",
        "    # it will return 1\n",
        "    elif ((n == 1) or (n == 2)):\n",
        "        return 1\n",
        " \n",
        "    else:\n",
        "        return Fibonacci(n-1) + Fibonacci(n-2)\n",
        " \n",
        "# Test it with different inputs\n",
        "print(\"Fibonacci(1) = \", Fibonacci(1))\n",
        "\n",
        "# Test it with different inputs\n",
        "print(\"Fibonacci(2) = \", Fibonacci(2))\n",
        "\n",
        "# Test it with different inputs\n",
        "print(\"Fibonacci(5) = \", Fibonacci(5))"
      ],
      "metadata": {
        "colab": {
          "base_uri": "https://localhost:8080/"
        },
        "id": "zlWzFcPc7fpv",
        "outputId": "37da705e-9a64-4160-e2da-98c0b9b6ce6b"
      },
      "execution_count": 18,
      "outputs": [
        {
          "output_type": "stream",
          "name": "stdout",
          "text": [
            "Fibonacci(1) =  1\n",
            "Fibonacci(2) =  1\n",
            "Fibonacci(5) =  5\n"
          ]
        }
      ]
    },
    {
      "cell_type": "markdown",
      "source": [
        "### Example: Number of Handshakes"
      ],
      "metadata": {
        "id": "d2h3TiwU5Tpe"
      }
    },
    {
      "cell_type": "code",
      "source": [
        "def handshake(n):\n",
        "  if (n<2):\n",
        "    return 0\n",
        "  else:\n",
        "    return (n-1) + handshake(n-1)\n",
        "\n",
        "# testing\n",
        "n = 2\n",
        "x = handshake(n)\n",
        "print('number of handshakes between', n, 'people', x)\n",
        "\n",
        "n = 3\n",
        "x = handshake(n)\n",
        "print('number of handshakes between', n, 'people', x)\n",
        "\n",
        "\n",
        "n = 4\n",
        "x = handshake(n)\n",
        "print('number of handshakes between', n, 'people', x)\n",
        "\n",
        "\n",
        "n = 5\n",
        "x = handshake(n)\n",
        "print('number of handshakes between', n, 'people', x)\n"
      ],
      "metadata": {
        "colab": {
          "base_uri": "https://localhost:8080/"
        },
        "id": "dWCsklit5T56",
        "outputId": "572cdd3c-2d35-4d37-f679-45e405c00ac2"
      },
      "execution_count": 15,
      "outputs": [
        {
          "output_type": "stream",
          "name": "stdout",
          "text": [
            "number of handshakes between 2 people 1\n",
            "number of handshakes between 3 people 3\n",
            "number of handshakes between 4 people 6\n",
            "number of handshakes between 5 people 10\n"
          ]
        }
      ]
    },
    {
      "cell_type": "markdown",
      "source": [
        "### Example: Greatest Common Divisor"
      ],
      "metadata": {
        "id": "62Q2lwZV6gWV"
      }
    },
    {
      "cell_type": "code",
      "source": [
        "# finding the greatest common divisor through recursion.\n",
        "def gcd(a, b):\n",
        "    if (b == 0):\n",
        "        return a\n",
        "    else:\n",
        "        return gcd(b, a % b)\n",
        "\n",
        "# testing \n",
        "\n",
        "print(\"gcd (10, 12) =\", gcd(10,12))\n",
        "\n",
        "\n",
        "print(\"gcd (10, 15) =\", gcd(10,15))\n",
        "\n",
        "\n",
        "print(\"gcd (10, 20) =\", gcd(10,20))\n",
        "\n",
        "\n",
        "print(\"gcd (10, 27) =\", gcd(10,27))"
      ],
      "metadata": {
        "colab": {
          "base_uri": "https://localhost:8080/"
        },
        "id": "8DkrgWLs6mCG",
        "outputId": "af7c0eea-34e1-4301-e89b-c630c8b4e303"
      },
      "execution_count": 16,
      "outputs": [
        {
          "output_type": "stream",
          "name": "stdout",
          "text": [
            "gcd (10, 12) = 2\n",
            "gcd (10, 15) = 5\n",
            "gcd (10, 20) = 10\n",
            "gcd (10, 27) = 1\n"
          ]
        }
      ]
    },
    {
      "cell_type": "markdown",
      "source": [
        "### Example: Binary Search"
      ],
      "metadata": {
        "id": "yIj-OnG38IAy"
      }
    },
    {
      "cell_type": "code",
      "source": [
        "\n",
        "# Returns index of x in arr if present, else -1\n",
        "def binary_search(arr, low, high, x):\n",
        "\n",
        "\t# Check base case\n",
        "\tif high >= low:\n",
        "\n",
        "\t\tmid = (high + low) // 2\n",
        "\n",
        "\t\t# If element is present at the middle itself\n",
        "\t\tif arr[mid] == x:\n",
        "\t\t\treturn mid\n",
        "\n",
        "\t\t# If element is smaller than mid, then it can only\n",
        "\t\t# be present in left subarray\n",
        "\t\telif arr[mid] > x:\n",
        "\t\t\treturn binary_search(arr, low, mid - 1, x)\n",
        "\n",
        "\t\t# Else the element can only be present in right subarray\n",
        "\t\telse:\n",
        "\t\t\treturn binary_search(arr, mid + 1, high, x)\n",
        "\n",
        "\telse:\n",
        "\t\t# Element is not present in the array\n",
        "\t\treturn -1\n",
        "\n",
        "# Test array\n",
        "arr = [ 2, 3, 4, 10, 40, 60, 68, 88, 90, 94, 100 ]\n",
        "x = 94\n",
        "\n",
        "# Function call\n",
        "result = binary_search(arr, 0, len(arr)-1, x)\n",
        "\n",
        "if result != -1:\n",
        "\tprint(\"Element is present at index\", str(result))\n",
        "else:\n",
        "\tprint(\"Element is not present in array\")"
      ],
      "metadata": {
        "colab": {
          "base_uri": "https://localhost:8080/"
        },
        "id": "KEwObf1f8Ktd",
        "outputId": "94534611-bdf6-4bcb-829e-c49a7b9d4f3a"
      },
      "execution_count": 21,
      "outputs": [
        {
          "output_type": "stream",
          "name": "stdout",
          "text": [
            "Element is present at index 9\n"
          ]
        }
      ]
    },
    {
      "cell_type": "markdown",
      "source": [
        "## Programming Exercises"
      ],
      "metadata": {
        "id": "gmibktPG-czL"
      }
    },
    {
      "cell_type": "markdown",
      "source": [
        "### 5: Recursive List Sum\n",
        "\n"
      ],
      "metadata": {
        "id": "e4heL6d6-nkH"
      }
    },
    {
      "cell_type": "code",
      "source": [
        "#Design a function that accepts a list of numbers as an argument. The function should recursively\n",
        "#calculate the sum of all the numbers in the list and return that value."
      ],
      "metadata": {
        "id": "s7cEWkPg-2wY"
      },
      "execution_count": null,
      "outputs": []
    },
    {
      "cell_type": "markdown",
      "source": [
        "### 8: Ackermann’s Function\n",
        "\n"
      ],
      "metadata": {
        "id": "PVcf9DS6-06Y"
      }
    },
    {
      "cell_type": "code",
      "source": [
        "'''\n",
        "Ackermann’s Function is a recursive mathematical algorithm that can be used to test how well a\n",
        "system optimizes its performance of recursion. Design a function ackermann(m, n), which\n",
        "solves Ackermann’s function. Use the following logic in your function:\n",
        "If m = 0 then return n + 1\n",
        "If n = 0 then return ackermann(m – 1, 1)\n",
        "Otherwise, return ackermann(m – 1, ackermann(m, n – 1))\n",
        "Once you’ve designed your function, test it by calling it with small values for m and n.\n",
        "''' "
      ],
      "metadata": {
        "id": "ElOxDL9A-x_6"
      },
      "execution_count": null,
      "outputs": []
    }
  ]
}