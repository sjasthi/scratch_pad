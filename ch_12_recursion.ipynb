{
  "nbformat": 4,
  "nbformat_minor": 0,
  "metadata": {
    "colab": {
      "provenance": [],
      "toc_visible": true,
      "authorship_tag": "ABX9TyOzAaTHQLnVORel3hi6bZQa",
      "include_colab_link": true
    },
    "kernelspec": {
      "name": "python3",
      "display_name": "Python 3"
    },
    "language_info": {
      "name": "python"
    }
  },
  "cells": [
    {
      "cell_type": "markdown",
      "metadata": {
        "id": "view-in-github",
        "colab_type": "text"
      },
      "source": [
        "<a href=\"https://colab.research.google.com/github/sjasthi/scratch_pad/blob/main/ch_12_recursion.ipynb\" target=\"_parent\"><img src=\"https://colab.research.google.com/assets/colab-badge.svg\" alt=\"Open In Colab\"/></a>"
      ]
    },
    {
      "cell_type": "markdown",
      "source": [],
      "metadata": {
        "id": "a1Bxk7PBzcM-"
      }
    },
    {
      "cell_type": "markdown",
      "source": [
        "## Recursion"
      ],
      "metadata": {
        "id": "_yRL39TUzefU"
      }
    },
    {
      "cell_type": "markdown",
      "source": [
        "### infinite recursive function"
      ],
      "metadata": {
        "id": "YhGV_DN-0OcB"
      }
    },
    {
      "cell_type": "code",
      "source": [
        "def message():\n",
        "  print(\"this is a recursive function\")\n",
        "  message()\n",
        "\n",
        "# invoke the recursive function\n",
        "# this gets into infinite loop because we are not stopping it\n",
        "message()"
      ],
      "metadata": {
        "id": "SXSxY2nhzwkA"
      },
      "execution_count": null,
      "outputs": []
    },
    {
      "cell_type": "markdown",
      "source": [
        "## Recursive Function with a stopping case"
      ],
      "metadata": {
        "id": "VO2OhzfUzijb"
      }
    },
    {
      "cell_type": "code",
      "execution_count": null,
      "metadata": {
        "colab": {
          "base_uri": "https://localhost:8080/"
        },
        "id": "FpFkTe1xzW3O",
        "outputId": "f896d4c2-e01e-43b6-f159-552dd4e14b17"
      },
      "outputs": [
        {
          "output_type": "stream",
          "name": "stdout",
          "text": [
            "This is a recursive function with a stopping case 5\n",
            "This is a recursive function with a stopping case 4\n",
            "This is a recursive function with a stopping case 3\n",
            "This is a recursive function with a stopping case 2\n",
            "This is a recursive function with a stopping case 1\n"
          ]
        }
      ],
      "source": [
        "def message(x):\n",
        "  # this is the stopping case\n",
        "  if x == 0:\n",
        "    return\n",
        "\n",
        "  # this is the main execution\n",
        "  if x > 0:\n",
        "    print(\"This is a recursive function with a stopping case\", x)\n",
        "    # converge towards the stopping case\n",
        "    message(x-1)\n",
        "\n",
        "# invoke the recursive function\n",
        "# this gets into infinite loop because we are not stopping it\n",
        "message(5)"
      ]
    },
    {
      "cell_type": "markdown",
      "source": [],
      "metadata": {
        "id": "NGQvgD_Gziq7"
      }
    },
    {
      "cell_type": "code",
      "source": [
        "def message(x):\n",
        "  # this is the stopping case\n",
        "  if x == 0:\n",
        "    return\n",
        "\n",
        "  # this is the main execution\n",
        "  if x > 0:\n",
        "    print(\"This is a recursive function with a stopping case\", x)\n",
        "    message(x-1)\n",
        "\n",
        "# invoke the recursive function\n",
        "# this gets into infinite loop because we are not stopping it\n",
        "message(5)"
      ],
      "metadata": {
        "colab": {
          "base_uri": "https://localhost:8080/"
        },
        "id": "ayizQBeHze4X",
        "outputId": "70b6357c-f6fe-4fd5-d550-c07ccbf9a601"
      },
      "execution_count": null,
      "outputs": [
        {
          "output_type": "stream",
          "name": "stdout",
          "text": [
            "This is a recursive function with a stopping case 5\n",
            "This is a recursive function with a stopping case 4\n",
            "This is a recursive function with a stopping case 3\n",
            "This is a recursive function with a stopping case 2\n",
            "This is a recursive function with a stopping case 1\n"
          ]
        }
      ]
    },
    {
      "cell_type": "markdown",
      "source": [
        "### Example: Factorial"
      ],
      "metadata": {
        "id": "lAJQsYOJzfpB"
      }
    },
    {
      "cell_type": "code",
      "source": [
        "# If n = 0 then factorial(n) = 1\n",
        "# If n > 0 then factorial(n) = n × factorial(n − 1)\n",
        "\n",
        "def factorial(num):\n",
        "  if num == 0:\n",
        "      return 1\n",
        "  else:\n",
        "      return num * factorial(num-1)\n",
        "      \n",
        "# invoke the function\n",
        "\n",
        "\n",
        "x = factorial(3)\n",
        "print(\"factorial(3)\", x)\n",
        "\n",
        "x = factorial(5)\n",
        "print(\"factorial(5)\", x)\n",
        "\n",
        "x = factorial(10)\n",
        "print(\"factorial(10)\", x)"
      ],
      "metadata": {
        "colab": {
          "base_uri": "https://localhost:8080/"
        },
        "id": "hfiKPaodzgBV",
        "outputId": "a57c0ce5-55ca-4135-b02e-f24a0cbf2037"
      },
      "execution_count": null,
      "outputs": [
        {
          "output_type": "stream",
          "name": "stdout",
          "text": [
            "factorial(3) 6\n",
            "factorial(5) 120\n",
            "factorial(10) 3628800\n"
          ]
        }
      ]
    },
    {
      "cell_type": "markdown",
      "source": [
        "### Example: Fibonacci"
      ],
      "metadata": {
        "id": "EAZxAqrc7fHu"
      }
    },
    {
      "cell_type": "code",
      "source": [
        "def Fibonacci(n):\n",
        "   \n",
        "    # Check if input is 0 then it will\n",
        "    # print incorrect input\n",
        "    if (n < 0):\n",
        "        print(\"Incorrect input\")\n",
        " \n",
        "    # Check if n is 0\n",
        "    # then it will return 0\n",
        "    elif (n == 0):\n",
        "        return 0\n",
        " \n",
        "    # Check if n is 1,2\n",
        "    # it will return 1\n",
        "    elif ((n == 1) or (n == 2)):\n",
        "        return 1\n",
        " \n",
        "    else:\n",
        "        return Fibonacci(n-1) + Fibonacci(n-2)\n",
        " \n",
        "# Test it with different inputs\n",
        "print(\"Fibonacci(1) = \", Fibonacci(1))\n",
        "\n",
        "# Test it with different inputs\n",
        "print(\"Fibonacci(2) = \", Fibonacci(2))\n",
        "\n",
        "# Test it with different inputs\n",
        "print(\"Fibonacci(5) = \", Fibonacci(5))"
      ],
      "metadata": {
        "colab": {
          "base_uri": "https://localhost:8080/"
        },
        "id": "zlWzFcPc7fpv",
        "outputId": "37da705e-9a64-4160-e2da-98c0b9b6ce6b"
      },
      "execution_count": null,
      "outputs": [
        {
          "output_type": "stream",
          "name": "stdout",
          "text": [
            "Fibonacci(1) =  1\n",
            "Fibonacci(2) =  1\n",
            "Fibonacci(5) =  5\n"
          ]
        }
      ]
    },
    {
      "cell_type": "markdown",
      "source": [
        "### Example: Number of Handshakes"
      ],
      "metadata": {
        "id": "d2h3TiwU5Tpe"
      }
    },
    {
      "cell_type": "code",
      "source": [
        "def handshake(n):\n",
        "  if (n<2):\n",
        "    return 0\n",
        "  else:\n",
        "    return (n-1) + handshake(n-1)\n",
        "\n",
        "# testing\n",
        "n = 2\n",
        "x = handshake(n)\n",
        "print('number of handshakes between', n, 'people', x)\n",
        "\n",
        "n = 3\n",
        "x = handshake(n)\n",
        "print('number of handshakes between', n, 'people', x)\n",
        "\n",
        "\n",
        "n = 4\n",
        "x = handshake(n)\n",
        "print('number of handshakes between', n, 'people', x)\n",
        "\n",
        "\n",
        "n = 5\n",
        "x = handshake(n)\n",
        "print('number of handshakes between', n, 'people', x)\n"
      ],
      "metadata": {
        "colab": {
          "base_uri": "https://localhost:8080/"
        },
        "id": "dWCsklit5T56",
        "outputId": "572cdd3c-2d35-4d37-f679-45e405c00ac2"
      },
      "execution_count": null,
      "outputs": [
        {
          "output_type": "stream",
          "name": "stdout",
          "text": [
            "number of handshakes between 2 people 1\n",
            "number of handshakes between 3 people 3\n",
            "number of handshakes between 4 people 6\n",
            "number of handshakes between 5 people 10\n"
          ]
        }
      ]
    },
    {
      "cell_type": "markdown",
      "source": [
        "### Example: Greatest Common Divisor"
      ],
      "metadata": {
        "id": "62Q2lwZV6gWV"
      }
    },
    {
      "cell_type": "code",
      "source": [
        "# finding the greatest common divisor through recursion.\n",
        "def gcd(a, b):\n",
        "    if (b == 0):\n",
        "        return a\n",
        "    else:\n",
        "        return gcd(b, a % b)\n",
        "\n",
        "# testing \n",
        "\n",
        "print(\"gcd (10, 12) =\", gcd(10,12))\n",
        "\n",
        "\n",
        "print(\"gcd (10, 15) =\", gcd(10,15))\n",
        "\n",
        "\n",
        "print(\"gcd (10, 20) =\", gcd(10,20))\n",
        "\n",
        "\n",
        "print(\"gcd (10, 27) =\", gcd(10,27))"
      ],
      "metadata": {
        "colab": {
          "base_uri": "https://localhost:8080/"
        },
        "id": "8DkrgWLs6mCG",
        "outputId": "af7c0eea-34e1-4301-e89b-c630c8b4e303"
      },
      "execution_count": null,
      "outputs": [
        {
          "output_type": "stream",
          "name": "stdout",
          "text": [
            "gcd (10, 12) = 2\n",
            "gcd (10, 15) = 5\n",
            "gcd (10, 20) = 10\n",
            "gcd (10, 27) = 1\n"
          ]
        }
      ]
    },
    {
      "cell_type": "markdown",
      "source": [
        "### Example: Binary Search"
      ],
      "metadata": {
        "id": "yIj-OnG38IAy"
      }
    },
    {
      "cell_type": "code",
      "source": [
        "\n",
        "# Returns index of x in arr if present, else -1\n",
        "def binary_search(arr, low, high, x):\n",
        "\n",
        "\t# Check base case\n",
        "\tif high >= low:\n",
        "\n",
        "\t\tmid = (high + low) // 2\n",
        "\n",
        "\t\t# If element is present at the middle itself\n",
        "\t\tif arr[mid] == x:\n",
        "\t\t\treturn mid\n",
        "\n",
        "\t\t# If element is smaller than mid, then it can only\n",
        "\t\t# be present in left subarray\n",
        "\t\telif arr[mid] > x:\n",
        "\t\t\treturn binary_search(arr, low, mid - 1, x)\n",
        "\n",
        "\t\t# Else the element can only be present in right subarray\n",
        "\t\telse:\n",
        "\t\t\treturn binary_search(arr, mid + 1, high, x)\n",
        "\n",
        "\telse:\n",
        "\t\t# Element is not present in the array\n",
        "\t\treturn -1\n",
        "\n",
        "# Test array\n",
        "arr = [ 2, 3, 4, 10, 40, 60, 68, 88, 90, 94, 100 ]\n",
        "x = 94\n",
        "\n",
        "# Function call\n",
        "result = binary_search(arr, 0, len(arr)-1, x)\n",
        "\n",
        "if result != -1:\n",
        "\tprint(\"Element is present at index\", str(result))\n",
        "else:\n",
        "\tprint(\"Element is not present in array\")"
      ],
      "metadata": {
        "colab": {
          "base_uri": "https://localhost:8080/"
        },
        "id": "KEwObf1f8Ktd",
        "outputId": "94534611-bdf6-4bcb-829e-c49a7b9d4f3a"
      },
      "execution_count": null,
      "outputs": [
        {
          "output_type": "stream",
          "name": "stdout",
          "text": [
            "Element is present at index 9\n"
          ]
        }
      ]
    },
    {
      "cell_type": "markdown",
      "source": [
        "### Example: Range Sum Function"
      ],
      "metadata": {
        "id": "qTtxzaMYsLsQ"
      }
    },
    {
      "cell_type": "code",
      "source": [
        "# This program demonstrates the range_sum function.\n",
        "# TODO\n",
        " 2\n",
        " 3 def main():\n",
        " 4 # Create a list of numbers.\n",
        " 5 numbers = [1, 2, 3, 4, 5, 6, 7, 8, 9]\n",
        " 6\n",
        " 7 # Get the sum of the items at indexes 2\n",
        " 8 # through 5.\n",
        " 9 my_sum = range_sum(numbers, 2, 5)\n",
        "10\n",
        "11 # Display the sum.\n",
        "12 print('The sum of items 2 through 5 is', my_sum)\n",
        "13\n",
        "14 # The range_sum function returns the sum of a specified\n",
        "15 # range of items in num_list. The start parameter\n",
        "16 # specifies the index of the starting item. The end\n",
        "677\n",
        "17 # parameter specifies the index of the ending item.\n",
        "18 def range_sum(num_list, start, end):\n",
        "19 if start > end:\n",
        "20 return 0\n",
        "21 else:\n",
        "22 return num_list[start] + range_sum(num_list, start + 1, end)\n",
        "23\n",
        "24 # Call the main function.\n",
        "25 main()\n"
      ],
      "metadata": {
        "id": "aKvpHaXEsOlL"
      },
      "execution_count": null,
      "outputs": []
    },
    {
      "cell_type": "markdown",
      "source": [
        "### Towers of Hanoi\n",
        "https://www.youtube.com/watch?v=rf6uf3jNjbo\n",
        "\n"
      ],
      "metadata": {
        "id": "_OsxrsefslTp"
      }
    },
    {
      "cell_type": "code",
      "source": [
        "# This program simulates the Towers of Hanoi game.\n",
        "# TODO: HOw to determine the number of moves it is taking to move the pegs?\n",
        "def main():\n",
        "  # Set up some initial values.\n",
        "  num_discs = 4\n",
        "  from_peg = 1\n",
        "  to_peg = 3\n",
        "  temp_peg = 2\n",
        " \n",
        "  # Play the game.\n",
        "  x = move_discs(num_discs, from_peg, to_peg, temp_peg)\n",
        "  print('All the pegs are moved in', x, 'steps!')\n",
        "\n",
        "\n",
        "# The moveDiscs function displays a disc move in\n",
        "# the Towers of Hanoi game.\n",
        "\n",
        "# The parameters are:\n",
        "# num: The number of discs to move.\n",
        "# from_peg: The peg to move from.\n",
        "# to_peg: The peg to move to.\n",
        "# temp_peg: The temporary peg.\n",
        "def move_discs(num, from_peg, to_peg, temp_peg):\n",
        "  number_of_steps = 0\n",
        "  if num > 0:\n",
        "    number_ofsteps = number_of_steps + 1\n",
        "    move_discs(num - 1, from_peg, temp_peg, to_peg)\n",
        "    print('Move a disc from peg', from_peg, 'to peg', to_peg)\n",
        "    number_ofsteps = number_of_steps + 1\n",
        "    move_discs(num - 1, temp_peg, to_peg, from_peg)\n",
        "\n",
        "  return number_of_steps\n",
        "\n",
        "# Call the main function.\n",
        "main()\n"
      ],
      "metadata": {
        "colab": {
          "base_uri": "https://localhost:8080/"
        },
        "id": "ok_QmOhHsnQq",
        "outputId": "2389d5f0-80ef-4480-8b02-a1e138d09e96"
      },
      "execution_count": 17,
      "outputs": [
        {
          "output_type": "stream",
          "name": "stdout",
          "text": [
            "Move a disc from peg 1 to peg 2\n",
            "Move a disc from peg 1 to peg 3\n",
            "Move a disc from peg 2 to peg 3\n",
            "Move a disc from peg 1 to peg 2\n",
            "Move a disc from peg 3 to peg 1\n",
            "Move a disc from peg 3 to peg 2\n",
            "Move a disc from peg 1 to peg 2\n",
            "Move a disc from peg 1 to peg 3\n",
            "Move a disc from peg 2 to peg 3\n",
            "Move a disc from peg 2 to peg 1\n",
            "Move a disc from peg 3 to peg 1\n",
            "Move a disc from peg 2 to peg 3\n",
            "Move a disc from peg 1 to peg 2\n",
            "Move a disc from peg 1 to peg 3\n",
            "Move a disc from peg 2 to peg 3\n",
            "All the pegs are moved in 0 steps!\n"
          ]
        }
      ]
    },
    {
      "cell_type": "markdown",
      "source": [
        "## Programming Exercises"
      ],
      "metadata": {
        "id": "gmibktPG-czL"
      }
    },
    {
      "cell_type": "markdown",
      "source": [
        "### 6: Sum of Numbers\n",
        "\n",
        "Design a function that accepts an integer argument and returns the sum of all the integers from 1\n",
        "up to the number passed as an argument. For example, if 50 is passed as an argument, the\n",
        "function will return the sum of 1, 2, 3, 4, . . . 50. Use recursion to calculate the sum.\n"
      ],
      "metadata": {
        "id": "e4heL6d6-nkH"
      }
    },
    {
      "cell_type": "code",
      "source": [
        "def sum_of_numbers(n):\n",
        "  if n == 1:\n",
        "    return 1\n",
        "  else:\n",
        "    return n + sum_of_numbers(n-1)\n",
        "\n",
        "print(\"sum_of_numbrs(1)\", sum_of_numbers(1))\n",
        "print(\"sum_of_numbrs(2)\", sum_of_numbers(2))\n",
        "print(\"sum_of_numbrs(3)\", sum_of_numbers(3))\n",
        "print(\"sum_of_numbrs(5)\", sum_of_numbers(5))\n",
        "print(\"sum_of_numbrs(6)\", sum_of_numbers(6))\n",
        "print(\"sum_of_numbrs(7)\", sum_of_numbers(7))"
      ],
      "metadata": {
        "colab": {
          "base_uri": "https://localhost:8080/"
        },
        "id": "W8e4DQw0wUCM",
        "outputId": "1f31d4d9-4f7d-4742-fc54-76c3746de840"
      },
      "execution_count": 23,
      "outputs": [
        {
          "output_type": "stream",
          "name": "stdout",
          "text": [
            "sum_of_numbrs(1) 1\n",
            "sum_of_numbrs(2) 3\n",
            "sum_of_numbrs(3) 6\n",
            "sum_of_numbrs(5) 15\n",
            "sum_of_numbrs(6) 21\n",
            "sum_of_numbrs(7) 28\n"
          ]
        }
      ]
    },
    {
      "cell_type": "markdown",
      "source": [
        "### 7. Recursive Power Method\n",
        "Design a function that uses recursion to raise a number to a power. The function should accept\n",
        "two arguments: the number to be raised, and the exponent. Assume the exponent is a\n",
        "nonnegative integer"
      ],
      "metadata": {
        "id": "e34d2q8eyKQY"
      }
    },
    {
      "cell_type": "code",
      "source": [
        "def power(number, exp):\n",
        "  if exp == 0:\n",
        "    return 1\n",
        "  else:\n",
        "    return number * power(number, exp-1)\n",
        "\n",
        "\n",
        "print(\"power(2,3) = \", power(2,3))\n",
        "print(\"power(3,4) = \", power(3,4))\n",
        "print(\"power(4,3) = \", power(4,3))"
      ],
      "metadata": {
        "colab": {
          "base_uri": "https://localhost:8080/"
        },
        "id": "MoRD5TrRyNtd",
        "outputId": "cf02d7f3-ef2f-43f9-b180-ab8f2e6a2e2a"
      },
      "execution_count": 25,
      "outputs": [
        {
          "output_type": "stream",
          "name": "stdout",
          "text": [
            "power(2,3) =  8\n",
            "power(3,4) =  81\n",
            "power(4,3) =  64\n"
          ]
        }
      ]
    },
    {
      "cell_type": "markdown",
      "source": [
        "### 8: Ackermann’s Function\n",
        "\n"
      ],
      "metadata": {
        "id": "PVcf9DS6-06Y"
      }
    },
    {
      "cell_type": "code",
      "source": [
        "'''\n",
        "Ackermann’s Function is a recursive mathematical algorithm that can be used to test how well a\n",
        "system optimizes its performance of recursion. Design a function ackermann(m, n), which\n",
        "solves Ackermann’s function. Use the following logic in your function:\n",
        "If m = 0 then return n + 1\n",
        "If n = 0 then return ackermann(m – 1, 1)\n",
        "Otherwise, return ackermann(m – 1, ackermann(m, n – 1))\n",
        "Once you’ve designed your function, test it by calling it with small values for m and n.\n",
        "''' "
      ],
      "metadata": {
        "id": "ElOxDL9A-x_6"
      },
      "execution_count": null,
      "outputs": []
    },
    {
      "cell_type": "code",
      "source": [
        "def ackermann(m, n):\n",
        "  if m == 0:\n",
        "    return n + 1\n",
        "  elif n == 0:\n",
        "    return ackermann(m - 1, 1)\n",
        "  else:\n",
        "    return ackermann(m - 1, ackermann(m, n - 1))\n",
        "\n",
        "\n",
        "print('ackermann((1, 2):', ackermann(1,2))\n",
        "\n",
        "\n",
        "\n",
        "print('ackermann(3,4):', ackermann(3,4))\n",
        "print('ackermann(4,3):', ackermann(4,3))\n",
        "#print('ackermann(5,8):', ackermann(5,8))"
      ],
      "metadata": {
        "colab": {
          "base_uri": "https://localhost:8080/",
          "height": 432
        },
        "id": "6wgJXPzbpRdT",
        "outputId": "08f14f0c-84df-42a5-831d-c49d947ae0bb"
      },
      "execution_count": 10,
      "outputs": [
        {
          "output_type": "stream",
          "name": "stdout",
          "text": [
            "ackermann((1, 2): 4\n",
            "ackermann(3,4): 125\n"
          ]
        },
        {
          "output_type": "error",
          "ename": "RecursionError",
          "evalue": "ignored",
          "traceback": [
            "\u001b[0;31m---------------------------------------------------------------------------\u001b[0m",
            "\u001b[0;31mRecursionError\u001b[0m                            Traceback (most recent call last)",
            "\u001b[0;32m<ipython-input-10-5e32fd5fe644>\u001b[0m in \u001b[0;36m<module>\u001b[0;34m\u001b[0m\n\u001b[1;32m     13\u001b[0m \u001b[0;34m\u001b[0m\u001b[0m\n\u001b[1;32m     14\u001b[0m \u001b[0mprint\u001b[0m\u001b[0;34m(\u001b[0m\u001b[0;34m'ackermann(3,4):'\u001b[0m\u001b[0;34m,\u001b[0m \u001b[0mackermann\u001b[0m\u001b[0;34m(\u001b[0m\u001b[0;36m3\u001b[0m\u001b[0;34m,\u001b[0m\u001b[0;36m4\u001b[0m\u001b[0;34m)\u001b[0m\u001b[0;34m)\u001b[0m\u001b[0;34m\u001b[0m\u001b[0;34m\u001b[0m\u001b[0m\n\u001b[0;32m---> 15\u001b[0;31m \u001b[0mprint\u001b[0m\u001b[0;34m(\u001b[0m\u001b[0;34m'ackermann(4,3):'\u001b[0m\u001b[0;34m,\u001b[0m \u001b[0mackermann\u001b[0m\u001b[0;34m(\u001b[0m\u001b[0;36m4\u001b[0m\u001b[0;34m,\u001b[0m\u001b[0;36m3\u001b[0m\u001b[0;34m)\u001b[0m\u001b[0;34m)\u001b[0m\u001b[0;34m\u001b[0m\u001b[0;34m\u001b[0m\u001b[0m\n\u001b[0m\u001b[1;32m     16\u001b[0m \u001b[0;31m#print('ackermann(5,8):', ackermann(5,8))\u001b[0m\u001b[0;34m\u001b[0m\u001b[0;34m\u001b[0m\u001b[0;34m\u001b[0m\u001b[0m\n",
            "\u001b[0;32m<ipython-input-10-5e32fd5fe644>\u001b[0m in \u001b[0;36mackermann\u001b[0;34m(m, n)\u001b[0m\n\u001b[1;32m      5\u001b[0m     \u001b[0;32mreturn\u001b[0m \u001b[0mackermann\u001b[0m\u001b[0;34m(\u001b[0m\u001b[0mm\u001b[0m \u001b[0;34m-\u001b[0m \u001b[0;36m1\u001b[0m\u001b[0;34m,\u001b[0m \u001b[0;36m1\u001b[0m\u001b[0;34m)\u001b[0m\u001b[0;34m\u001b[0m\u001b[0;34m\u001b[0m\u001b[0m\n\u001b[1;32m      6\u001b[0m   \u001b[0;32melse\u001b[0m\u001b[0;34m:\u001b[0m\u001b[0;34m\u001b[0m\u001b[0;34m\u001b[0m\u001b[0m\n\u001b[0;32m----> 7\u001b[0;31m     \u001b[0;32mreturn\u001b[0m \u001b[0mackermann\u001b[0m\u001b[0;34m(\u001b[0m\u001b[0mm\u001b[0m \u001b[0;34m-\u001b[0m \u001b[0;36m1\u001b[0m\u001b[0;34m,\u001b[0m \u001b[0mackermann\u001b[0m\u001b[0;34m(\u001b[0m\u001b[0mm\u001b[0m\u001b[0;34m,\u001b[0m \u001b[0mn\u001b[0m \u001b[0;34m-\u001b[0m \u001b[0;36m1\u001b[0m\u001b[0;34m)\u001b[0m\u001b[0;34m)\u001b[0m\u001b[0;34m\u001b[0m\u001b[0;34m\u001b[0m\u001b[0m\n\u001b[0m\u001b[1;32m      8\u001b[0m \u001b[0;34m\u001b[0m\u001b[0m\n\u001b[1;32m      9\u001b[0m \u001b[0;34m\u001b[0m\u001b[0m\n",
            "... last 1 frames repeated, from the frame below ...\n",
            "\u001b[0;32m<ipython-input-10-5e32fd5fe644>\u001b[0m in \u001b[0;36mackermann\u001b[0;34m(m, n)\u001b[0m\n\u001b[1;32m      5\u001b[0m     \u001b[0;32mreturn\u001b[0m \u001b[0mackermann\u001b[0m\u001b[0;34m(\u001b[0m\u001b[0mm\u001b[0m \u001b[0;34m-\u001b[0m \u001b[0;36m1\u001b[0m\u001b[0;34m,\u001b[0m \u001b[0;36m1\u001b[0m\u001b[0;34m)\u001b[0m\u001b[0;34m\u001b[0m\u001b[0;34m\u001b[0m\u001b[0m\n\u001b[1;32m      6\u001b[0m   \u001b[0;32melse\u001b[0m\u001b[0;34m:\u001b[0m\u001b[0;34m\u001b[0m\u001b[0;34m\u001b[0m\u001b[0m\n\u001b[0;32m----> 7\u001b[0;31m     \u001b[0;32mreturn\u001b[0m \u001b[0mackermann\u001b[0m\u001b[0;34m(\u001b[0m\u001b[0mm\u001b[0m \u001b[0;34m-\u001b[0m \u001b[0;36m1\u001b[0m\u001b[0;34m,\u001b[0m \u001b[0mackermann\u001b[0m\u001b[0;34m(\u001b[0m\u001b[0mm\u001b[0m\u001b[0;34m,\u001b[0m \u001b[0mn\u001b[0m \u001b[0;34m-\u001b[0m \u001b[0;36m1\u001b[0m\u001b[0;34m)\u001b[0m\u001b[0;34m)\u001b[0m\u001b[0;34m\u001b[0m\u001b[0;34m\u001b[0m\u001b[0m\n\u001b[0m\u001b[1;32m      8\u001b[0m \u001b[0;34m\u001b[0m\u001b[0m\n\u001b[1;32m      9\u001b[0m \u001b[0;34m\u001b[0m\u001b[0m\n",
            "\u001b[0;31mRecursionError\u001b[0m: maximum recursion depth exceeded in comparison"
          ]
        }
      ]
    },
    {
      "cell_type": "markdown",
      "source": [
        "### Recursion Limit\n",
        "Python supports setting the recursion limits to ensure that we are not consuming the system resources unintentionally."
      ],
      "metadata": {
        "id": "PLPQDlTIqftM"
      }
    },
    {
      "cell_type": "code",
      "source": [
        "import sys\n",
        "print('The current recursion limit: ', sys.getrecursionlimit())\n",
        "\n",
        "# increase the system limit\n",
        "sys.setrecursionlimit(5000)\n",
        "\n",
        "print('After increasing the limit, the current recursion limit: ', sys.getrecursionlimit())\n"
      ],
      "metadata": {
        "colab": {
          "base_uri": "https://localhost:8080/"
        },
        "id": "P2dVe5BgqtZp",
        "outputId": "c07f1f94-7bef-49f3-95b5-5d12dd188783"
      },
      "execution_count": 9,
      "outputs": [
        {
          "output_type": "stream",
          "name": "stdout",
          "text": [
            "The current recursion limit:  1000\n",
            "After increasing the limit, the current recursion limit:  5000\n"
          ]
        }
      ]
    }
  ]
}